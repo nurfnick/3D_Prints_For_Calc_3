{
  "nbformat": 4,
  "nbformat_minor": 0,
  "metadata": {
    "colab": {
      "name": "Untitled84.ipynb",
      "provenance": [],
      "authorship_tag": "ABX9TyMZMidw58REd1vT+gJPpsSP",
      "include_colab_link": true
    },
    "kernelspec": {
      "name": "python3",
      "display_name": "Python 3"
    },
    "language_info": {
      "name": "python"
    }
  },
  "cells": [
    {
      "cell_type": "markdown",
      "metadata": {
        "id": "view-in-github",
        "colab_type": "text"
      },
      "source": [
        "<a href=\"https://colab.research.google.com/github/nurfnick/3D_Prints_For_Calc_3/blob/main/15_Dates.ipynb\" target=\"_parent\"><img src=\"https://colab.research.google.com/assets/colab-badge.svg\" alt=\"Open In Colab\"/></a>"
      ]
    },
    {
      "cell_type": "markdown",
      "source": [
        "# Dates"
      ],
      "metadata": {
        "id": "HoHHAFoHQoeg"
      }
    },
    {
      "cell_type": "markdown",
      "source": [
        "## Converting Seperate Columns into Datetime"
      ],
      "metadata": {
        "id": "rkKRZejlQsB8"
      }
    },
    {
      "cell_type": "markdown",
      "source": [
        "I gathered the folloiwng dataset from [this paper](https://www.sciencedirect.com/science/article/pii/S2352340918315191).  It looks at actual hotel stays and reservations.  It is interesting because it has dates in several formats."
      ],
      "metadata": {
        "id": "W9-rSXCxQ2pq"
      }
    },
    {
      "cell_type": "code",
      "execution_count": 2,
      "metadata": {
        "colab": {
          "base_uri": "https://localhost:8080/",
          "height": 1000
        },
        "id": "8udT7ow6QntB",
        "outputId": "5385afcc-806d-4fb2-e496-4124c7493b54"
      },
      "outputs": [
        {
          "output_type": "execute_result",
          "data": {
            "text/html": [
              "\n",
              "  <div id=\"df-c127bca9-1854-43b2-b669-4206adc50023\">\n",
              "    <div class=\"colab-df-container\">\n",
              "      <div>\n",
              "<style scoped>\n",
              "    .dataframe tbody tr th:only-of-type {\n",
              "        vertical-align: middle;\n",
              "    }\n",
              "\n",
              "    .dataframe tbody tr th {\n",
              "        vertical-align: top;\n",
              "    }\n",
              "\n",
              "    .dataframe thead th {\n",
              "        text-align: right;\n",
              "    }\n",
              "</style>\n",
              "<table border=\"1\" class=\"dataframe\">\n",
              "  <thead>\n",
              "    <tr style=\"text-align: right;\">\n",
              "      <th></th>\n",
              "      <th>0</th>\n",
              "      <th>1</th>\n",
              "      <th>2</th>\n",
              "      <th>3</th>\n",
              "      <th>4</th>\n",
              "    </tr>\n",
              "  </thead>\n",
              "  <tbody>\n",
              "    <tr>\n",
              "      <th>IsCanceled</th>\n",
              "      <td>0</td>\n",
              "      <td>0</td>\n",
              "      <td>0</td>\n",
              "      <td>0</td>\n",
              "      <td>0</td>\n",
              "    </tr>\n",
              "    <tr>\n",
              "      <th>LeadTime</th>\n",
              "      <td>342</td>\n",
              "      <td>737</td>\n",
              "      <td>7</td>\n",
              "      <td>13</td>\n",
              "      <td>14</td>\n",
              "    </tr>\n",
              "    <tr>\n",
              "      <th>ArrivalDateYear</th>\n",
              "      <td>2015</td>\n",
              "      <td>2015</td>\n",
              "      <td>2015</td>\n",
              "      <td>2015</td>\n",
              "      <td>2015</td>\n",
              "    </tr>\n",
              "    <tr>\n",
              "      <th>ArrivalDateMonth</th>\n",
              "      <td>July</td>\n",
              "      <td>July</td>\n",
              "      <td>July</td>\n",
              "      <td>July</td>\n",
              "      <td>July</td>\n",
              "    </tr>\n",
              "    <tr>\n",
              "      <th>ArrivalDateWeekNumber</th>\n",
              "      <td>27</td>\n",
              "      <td>27</td>\n",
              "      <td>27</td>\n",
              "      <td>27</td>\n",
              "      <td>27</td>\n",
              "    </tr>\n",
              "    <tr>\n",
              "      <th>ArrivalDateDayOfMonth</th>\n",
              "      <td>1</td>\n",
              "      <td>1</td>\n",
              "      <td>1</td>\n",
              "      <td>1</td>\n",
              "      <td>1</td>\n",
              "    </tr>\n",
              "    <tr>\n",
              "      <th>StaysInWeekendNights</th>\n",
              "      <td>0</td>\n",
              "      <td>0</td>\n",
              "      <td>0</td>\n",
              "      <td>0</td>\n",
              "      <td>0</td>\n",
              "    </tr>\n",
              "    <tr>\n",
              "      <th>StaysInWeekNights</th>\n",
              "      <td>0</td>\n",
              "      <td>0</td>\n",
              "      <td>1</td>\n",
              "      <td>1</td>\n",
              "      <td>2</td>\n",
              "    </tr>\n",
              "    <tr>\n",
              "      <th>Adults</th>\n",
              "      <td>2</td>\n",
              "      <td>2</td>\n",
              "      <td>1</td>\n",
              "      <td>1</td>\n",
              "      <td>2</td>\n",
              "    </tr>\n",
              "    <tr>\n",
              "      <th>Children</th>\n",
              "      <td>0</td>\n",
              "      <td>0</td>\n",
              "      <td>0</td>\n",
              "      <td>0</td>\n",
              "      <td>0</td>\n",
              "    </tr>\n",
              "    <tr>\n",
              "      <th>Babies</th>\n",
              "      <td>0</td>\n",
              "      <td>0</td>\n",
              "      <td>0</td>\n",
              "      <td>0</td>\n",
              "      <td>0</td>\n",
              "    </tr>\n",
              "    <tr>\n",
              "      <th>Meal</th>\n",
              "      <td>BB</td>\n",
              "      <td>BB</td>\n",
              "      <td>BB</td>\n",
              "      <td>BB</td>\n",
              "      <td>BB</td>\n",
              "    </tr>\n",
              "    <tr>\n",
              "      <th>Country</th>\n",
              "      <td>PRT</td>\n",
              "      <td>PRT</td>\n",
              "      <td>GBR</td>\n",
              "      <td>GBR</td>\n",
              "      <td>GBR</td>\n",
              "    </tr>\n",
              "    <tr>\n",
              "      <th>MarketSegment</th>\n",
              "      <td>Direct</td>\n",
              "      <td>Direct</td>\n",
              "      <td>Direct</td>\n",
              "      <td>Corporate</td>\n",
              "      <td>Online TA</td>\n",
              "    </tr>\n",
              "    <tr>\n",
              "      <th>DistributionChannel</th>\n",
              "      <td>Direct</td>\n",
              "      <td>Direct</td>\n",
              "      <td>Direct</td>\n",
              "      <td>Corporate</td>\n",
              "      <td>TA/TO</td>\n",
              "    </tr>\n",
              "    <tr>\n",
              "      <th>IsRepeatedGuest</th>\n",
              "      <td>0</td>\n",
              "      <td>0</td>\n",
              "      <td>0</td>\n",
              "      <td>0</td>\n",
              "      <td>0</td>\n",
              "    </tr>\n",
              "    <tr>\n",
              "      <th>PreviousCancellations</th>\n",
              "      <td>0</td>\n",
              "      <td>0</td>\n",
              "      <td>0</td>\n",
              "      <td>0</td>\n",
              "      <td>0</td>\n",
              "    </tr>\n",
              "    <tr>\n",
              "      <th>PreviousBookingsNotCanceled</th>\n",
              "      <td>0</td>\n",
              "      <td>0</td>\n",
              "      <td>0</td>\n",
              "      <td>0</td>\n",
              "      <td>0</td>\n",
              "    </tr>\n",
              "    <tr>\n",
              "      <th>ReservedRoomType</th>\n",
              "      <td>C</td>\n",
              "      <td>C</td>\n",
              "      <td>A</td>\n",
              "      <td>A</td>\n",
              "      <td>A</td>\n",
              "    </tr>\n",
              "    <tr>\n",
              "      <th>AssignedRoomType</th>\n",
              "      <td>C</td>\n",
              "      <td>C</td>\n",
              "      <td>C</td>\n",
              "      <td>A</td>\n",
              "      <td>A</td>\n",
              "    </tr>\n",
              "    <tr>\n",
              "      <th>BookingChanges</th>\n",
              "      <td>3</td>\n",
              "      <td>4</td>\n",
              "      <td>0</td>\n",
              "      <td>0</td>\n",
              "      <td>0</td>\n",
              "    </tr>\n",
              "    <tr>\n",
              "      <th>DepositType</th>\n",
              "      <td>No Deposit</td>\n",
              "      <td>No Deposit</td>\n",
              "      <td>No Deposit</td>\n",
              "      <td>No Deposit</td>\n",
              "      <td>No Deposit</td>\n",
              "    </tr>\n",
              "    <tr>\n",
              "      <th>Agent</th>\n",
              "      <td>NULL</td>\n",
              "      <td>NULL</td>\n",
              "      <td>NULL</td>\n",
              "      <td>304</td>\n",
              "      <td>240</td>\n",
              "    </tr>\n",
              "    <tr>\n",
              "      <th>Company</th>\n",
              "      <td>NULL</td>\n",
              "      <td>NULL</td>\n",
              "      <td>NULL</td>\n",
              "      <td>NULL</td>\n",
              "      <td>NULL</td>\n",
              "    </tr>\n",
              "    <tr>\n",
              "      <th>DaysInWaitingList</th>\n",
              "      <td>0</td>\n",
              "      <td>0</td>\n",
              "      <td>0</td>\n",
              "      <td>0</td>\n",
              "      <td>0</td>\n",
              "    </tr>\n",
              "    <tr>\n",
              "      <th>CustomerType</th>\n",
              "      <td>Transient</td>\n",
              "      <td>Transient</td>\n",
              "      <td>Transient</td>\n",
              "      <td>Transient</td>\n",
              "      <td>Transient</td>\n",
              "    </tr>\n",
              "    <tr>\n",
              "      <th>ADR</th>\n",
              "      <td>0.0</td>\n",
              "      <td>0.0</td>\n",
              "      <td>75.0</td>\n",
              "      <td>75.0</td>\n",
              "      <td>98.0</td>\n",
              "    </tr>\n",
              "    <tr>\n",
              "      <th>RequiredCarParkingSpaces</th>\n",
              "      <td>0</td>\n",
              "      <td>0</td>\n",
              "      <td>0</td>\n",
              "      <td>0</td>\n",
              "      <td>0</td>\n",
              "    </tr>\n",
              "    <tr>\n",
              "      <th>TotalOfSpecialRequests</th>\n",
              "      <td>0</td>\n",
              "      <td>0</td>\n",
              "      <td>0</td>\n",
              "      <td>0</td>\n",
              "      <td>1</td>\n",
              "    </tr>\n",
              "    <tr>\n",
              "      <th>ReservationStatus</th>\n",
              "      <td>Check-Out</td>\n",
              "      <td>Check-Out</td>\n",
              "      <td>Check-Out</td>\n",
              "      <td>Check-Out</td>\n",
              "      <td>Check-Out</td>\n",
              "    </tr>\n",
              "    <tr>\n",
              "      <th>ReservationStatusDate</th>\n",
              "      <td>7/1/2015</td>\n",
              "      <td>7/1/2015</td>\n",
              "      <td>7/2/2015</td>\n",
              "      <td>7/2/2015</td>\n",
              "      <td>7/3/2015</td>\n",
              "    </tr>\n",
              "  </tbody>\n",
              "</table>\n",
              "</div>\n",
              "      <button class=\"colab-df-convert\" onclick=\"convertToInteractive('df-c127bca9-1854-43b2-b669-4206adc50023')\"\n",
              "              title=\"Convert this dataframe to an interactive table.\"\n",
              "              style=\"display:none;\">\n",
              "        \n",
              "  <svg xmlns=\"http://www.w3.org/2000/svg\" height=\"24px\"viewBox=\"0 0 24 24\"\n",
              "       width=\"24px\">\n",
              "    <path d=\"M0 0h24v24H0V0z\" fill=\"none\"/>\n",
              "    <path d=\"M18.56 5.44l.94 2.06.94-2.06 2.06-.94-2.06-.94-.94-2.06-.94 2.06-2.06.94zm-11 1L8.5 8.5l.94-2.06 2.06-.94-2.06-.94L8.5 2.5l-.94 2.06-2.06.94zm10 10l.94 2.06.94-2.06 2.06-.94-2.06-.94-.94-2.06-.94 2.06-2.06.94z\"/><path d=\"M17.41 7.96l-1.37-1.37c-.4-.4-.92-.59-1.43-.59-.52 0-1.04.2-1.43.59L10.3 9.45l-7.72 7.72c-.78.78-.78 2.05 0 2.83L4 21.41c.39.39.9.59 1.41.59.51 0 1.02-.2 1.41-.59l7.78-7.78 2.81-2.81c.8-.78.8-2.07 0-2.86zM5.41 20L4 18.59l7.72-7.72 1.47 1.35L5.41 20z\"/>\n",
              "  </svg>\n",
              "      </button>\n",
              "      \n",
              "  <style>\n",
              "    .colab-df-container {\n",
              "      display:flex;\n",
              "      flex-wrap:wrap;\n",
              "      gap: 12px;\n",
              "    }\n",
              "\n",
              "    .colab-df-convert {\n",
              "      background-color: #E8F0FE;\n",
              "      border: none;\n",
              "      border-radius: 50%;\n",
              "      cursor: pointer;\n",
              "      display: none;\n",
              "      fill: #1967D2;\n",
              "      height: 32px;\n",
              "      padding: 0 0 0 0;\n",
              "      width: 32px;\n",
              "    }\n",
              "\n",
              "    .colab-df-convert:hover {\n",
              "      background-color: #E2EBFA;\n",
              "      box-shadow: 0px 1px 2px rgba(60, 64, 67, 0.3), 0px 1px 3px 1px rgba(60, 64, 67, 0.15);\n",
              "      fill: #174EA6;\n",
              "    }\n",
              "\n",
              "    [theme=dark] .colab-df-convert {\n",
              "      background-color: #3B4455;\n",
              "      fill: #D2E3FC;\n",
              "    }\n",
              "\n",
              "    [theme=dark] .colab-df-convert:hover {\n",
              "      background-color: #434B5C;\n",
              "      box-shadow: 0px 1px 3px 1px rgba(0, 0, 0, 0.15);\n",
              "      filter: drop-shadow(0px 1px 2px rgba(0, 0, 0, 0.3));\n",
              "      fill: #FFFFFF;\n",
              "    }\n",
              "  </style>\n",
              "\n",
              "      <script>\n",
              "        const buttonEl =\n",
              "          document.querySelector('#df-c127bca9-1854-43b2-b669-4206adc50023 button.colab-df-convert');\n",
              "        buttonEl.style.display =\n",
              "          google.colab.kernel.accessAllowed ? 'block' : 'none';\n",
              "\n",
              "        async function convertToInteractive(key) {\n",
              "          const element = document.querySelector('#df-c127bca9-1854-43b2-b669-4206adc50023');\n",
              "          const dataTable =\n",
              "            await google.colab.kernel.invokeFunction('convertToInteractive',\n",
              "                                                     [key], {});\n",
              "          if (!dataTable) return;\n",
              "\n",
              "          const docLinkHtml = 'Like what you see? Visit the ' +\n",
              "            '<a target=\"_blank\" href=https://colab.research.google.com/notebooks/data_table.ipynb>data table notebook</a>'\n",
              "            + ' to learn more about interactive tables.';\n",
              "          element.innerHTML = '';\n",
              "          dataTable['output_type'] = 'display_data';\n",
              "          await google.colab.output.renderOutput(dataTable, element);\n",
              "          const docLink = document.createElement('div');\n",
              "          docLink.innerHTML = docLinkHtml;\n",
              "          element.appendChild(docLink);\n",
              "        }\n",
              "      </script>\n",
              "    </div>\n",
              "  </div>\n",
              "  "
            ],
            "text/plain": [
              "                                            0  ...                 4\n",
              "IsCanceled                                  0  ...                 0\n",
              "LeadTime                                  342  ...                14\n",
              "ArrivalDateYear                          2015  ...              2015\n",
              "ArrivalDateMonth                         July  ...              July\n",
              "ArrivalDateWeekNumber                      27  ...                27\n",
              "ArrivalDateDayOfMonth                       1  ...                 1\n",
              "StaysInWeekendNights                        0  ...                 0\n",
              "StaysInWeekNights                           0  ...                 2\n",
              "Adults                                      2  ...                 2\n",
              "Children                                    0  ...                 0\n",
              "Babies                                      0  ...                 0\n",
              "Meal                                BB         ...         BB       \n",
              "Country                                   PRT  ...               GBR\n",
              "MarketSegment                          Direct  ...         Online TA\n",
              "DistributionChannel                    Direct  ...             TA/TO\n",
              "IsRepeatedGuest                             0  ...                 0\n",
              "PreviousCancellations                       0  ...                 0\n",
              "PreviousBookingsNotCanceled                 0  ...                 0\n",
              "ReservedRoomType             C                 ...  A               \n",
              "AssignedRoomType             C                 ...  A               \n",
              "BookingChanges                              3  ...                 0\n",
              "DepositType                   No Deposit       ...   No Deposit     \n",
              "Agent                                    NULL  ...               240\n",
              "Company                                  NULL  ...              NULL\n",
              "DaysInWaitingList                           0  ...                 0\n",
              "CustomerType                        Transient  ...         Transient\n",
              "ADR                                       0.0  ...              98.0\n",
              "RequiredCarParkingSpaces                    0  ...                 0\n",
              "TotalOfSpecialRequests                      0  ...                 1\n",
              "ReservationStatus                   Check-Out  ...         Check-Out\n",
              "ReservationStatusDate                7/1/2015  ...          7/3/2015\n",
              "\n",
              "[31 rows x 5 columns]"
            ]
          },
          "metadata": {},
          "execution_count": 2
        }
      ],
      "source": [
        "import pandas as pa\n",
        "\n",
        "df = pa.read_csv('https://raw.githubusercontent.com/nurfnick/Data_Viz/main/H1.csv')\n",
        "\n",
        "df.head().T"
      ]
    },
    {
      "cell_type": "code",
      "source": [
        "df.dtypes"
      ],
      "metadata": {
        "colab": {
          "base_uri": "https://localhost:8080/"
        },
        "id": "rPU7QYrFRUgi",
        "outputId": "be40a783-1138-4a58-e19d-caa4a3983b9a"
      },
      "execution_count": 3,
      "outputs": [
        {
          "output_type": "execute_result",
          "data": {
            "text/plain": [
              "IsCanceled                       int64\n",
              "LeadTime                         int64\n",
              "ArrivalDateYear                  int64\n",
              "ArrivalDateMonth                object\n",
              "ArrivalDateWeekNumber            int64\n",
              "ArrivalDateDayOfMonth            int64\n",
              "StaysInWeekendNights             int64\n",
              "StaysInWeekNights                int64\n",
              "Adults                           int64\n",
              "Children                         int64\n",
              "Babies                           int64\n",
              "Meal                            object\n",
              "Country                         object\n",
              "MarketSegment                   object\n",
              "DistributionChannel             object\n",
              "IsRepeatedGuest                  int64\n",
              "PreviousCancellations            int64\n",
              "PreviousBookingsNotCanceled      int64\n",
              "ReservedRoomType                object\n",
              "AssignedRoomType                object\n",
              "BookingChanges                   int64\n",
              "DepositType                     object\n",
              "Agent                           object\n",
              "Company                         object\n",
              "DaysInWaitingList                int64\n",
              "CustomerType                    object\n",
              "ADR                            float64\n",
              "RequiredCarParkingSpaces         int64\n",
              "TotalOfSpecialRequests           int64\n",
              "ReservationStatus               object\n",
              "ReservationStatusDate           object\n",
              "dtype: object"
            ]
          },
          "metadata": {},
          "execution_count": 3
        }
      ]
    },
    {
      "cell_type": "markdown",
      "source": [
        "We can see nothing has been interpreted as a date yet!  Let's grab the low hanging fruit and convert the *ReservationStatusDate* into datetime.  I'll have to give it the correct format of the date.  In this case it is in the Month/Day/Year.  "
      ],
      "metadata": {
        "id": "_ys8PNd1RyA-"
      }
    },
    {
      "cell_type": "code",
      "source": [
        "pa.to_datetime(df.ReservationStatusDate, format='%m/%d/%Y')"
      ],
      "metadata": {
        "colab": {
          "base_uri": "https://localhost:8080/"
        },
        "id": "Y6qgtjMZRvNC",
        "outputId": "833d1ebe-ed26-42a2-85eb-2fde2057126a"
      },
      "execution_count": 4,
      "outputs": [
        {
          "output_type": "execute_result",
          "data": {
            "text/plain": [
              "0       2015-07-01\n",
              "1       2015-07-01\n",
              "2       2015-07-02\n",
              "3       2015-07-02\n",
              "4       2015-07-03\n",
              "           ...    \n",
              "40055   2017-09-10\n",
              "40056   2017-09-10\n",
              "40057   2017-09-12\n",
              "40058   2017-09-14\n",
              "40059   2017-09-14\n",
              "Name: ReservationStatusDate, Length: 40060, dtype: datetime64[ns]"
            ]
          },
          "metadata": {},
          "execution_count": 4
        }
      ]
    },
    {
      "cell_type": "markdown",
      "source": [
        "I'll add that to the dataframe converting it's current column."
      ],
      "metadata": {
        "id": "lsAP9K02U2eT"
      }
    },
    {
      "cell_type": "code",
      "source": [
        "df.ReservationStatusDate = pa.to_datetime(df.ReservationStatusDate, format='%m/%d/%Y')"
      ],
      "metadata": {
        "id": "8StfJObFU9fj"
      },
      "execution_count": 13,
      "outputs": []
    },
    {
      "cell_type": "markdown",
      "source": [
        "If I'd like to do is get the Arrival Date into a date format.  To do that I'll first convert the month into a numeric using a dictionary."
      ],
      "metadata": {
        "id": "z3wtZ2z7RYRp"
      }
    },
    {
      "cell_type": "code",
      "source": [
        "df.ArrivalDateMonth.unique()"
      ],
      "metadata": {
        "colab": {
          "base_uri": "https://localhost:8080/"
        },
        "id": "YLiRGoPbT2CE",
        "outputId": "1f27834d-a08b-402c-a217-a96549176618"
      },
      "execution_count": 7,
      "outputs": [
        {
          "output_type": "execute_result",
          "data": {
            "text/plain": [
              "array(['July', 'August', 'September', 'October', 'November', 'December',\n",
              "       'January', 'February', 'March', 'April', 'May', 'June'],\n",
              "      dtype=object)"
            ]
          },
          "metadata": {},
          "execution_count": 7
        }
      ]
    },
    {
      "cell_type": "code",
      "source": [
        "monthConvert = {\n",
        "    'January':1,\n",
        "    'February':2,\n",
        "    'March':3,\n",
        "    'April':4,\n",
        "    'May':5,\n",
        "    'June':6,\n",
        "    'July':7,\n",
        "    'August':8,\n",
        "    'September':9,\n",
        "    'October':10,\n",
        "    'November':11,\n",
        "    'December':12\n",
        "}"
      ],
      "metadata": {
        "id": "SME0iJRCTrfa"
      },
      "execution_count": 8,
      "outputs": []
    },
    {
      "cell_type": "code",
      "source": [
        "df.ArrivalDateMonth.apply(lambda s: monthConvert[s])"
      ],
      "metadata": {
        "colab": {
          "base_uri": "https://localhost:8080/"
        },
        "id": "781IFCioUUxq",
        "outputId": "5c46ffee-dd3a-4410-dc11-e3137ba1fcd0"
      },
      "execution_count": 9,
      "outputs": [
        {
          "output_type": "execute_result",
          "data": {
            "text/plain": [
              "0        7\n",
              "1        7\n",
              "2        7\n",
              "3        7\n",
              "4        7\n",
              "        ..\n",
              "40055    8\n",
              "40056    8\n",
              "40057    8\n",
              "40058    8\n",
              "40059    8\n",
              "Name: ArrivalDateMonth, Length: 40060, dtype: int64"
            ]
          },
          "metadata": {},
          "execution_count": 9
        }
      ]
    },
    {
      "cell_type": "code",
      "source": [
        "df['ArrivalDate'] = pa.to_datetime(dict(year = df.ArrivalDateYear, month = df.ArrivalDateMonth.apply(lambda s: monthConvert[s]), day = df.ArrivalDateDayOfMonth))\n",
        "\n",
        "df.dtypes"
      ],
      "metadata": {
        "colab": {
          "base_uri": "https://localhost:8080/"
        },
        "id": "Z8l2W19MSMia",
        "outputId": "cd46d2b6-d87a-4354-980b-c9e2221db91f"
      },
      "execution_count": 14,
      "outputs": [
        {
          "output_type": "execute_result",
          "data": {
            "text/plain": [
              "IsCanceled                              int64\n",
              "LeadTime                                int64\n",
              "ArrivalDateYear                         int64\n",
              "ArrivalDateMonth                       object\n",
              "ArrivalDateWeekNumber                   int64\n",
              "ArrivalDateDayOfMonth                   int64\n",
              "StaysInWeekendNights                    int64\n",
              "StaysInWeekNights                       int64\n",
              "Adults                                  int64\n",
              "Children                                int64\n",
              "Babies                                  int64\n",
              "Meal                                   object\n",
              "Country                                object\n",
              "MarketSegment                          object\n",
              "DistributionChannel                    object\n",
              "IsRepeatedGuest                         int64\n",
              "PreviousCancellations                   int64\n",
              "PreviousBookingsNotCanceled             int64\n",
              "ReservedRoomType                       object\n",
              "AssignedRoomType                       object\n",
              "BookingChanges                          int64\n",
              "DepositType                            object\n",
              "Agent                                  object\n",
              "Company                                object\n",
              "DaysInWaitingList                       int64\n",
              "CustomerType                           object\n",
              "ADR                                   float64\n",
              "RequiredCarParkingSpaces                int64\n",
              "TotalOfSpecialRequests                  int64\n",
              "ReservationStatus                      object\n",
              "ReservationStatusDate          datetime64[ns]\n",
              "ArrivalDate                    datetime64[ns]\n",
              "dtype: object"
            ]
          },
          "metadata": {},
          "execution_count": 14
        }
      ]
    },
    {
      "cell_type": "markdown",
      "source": [
        "I am curious if these two dates have any differences..."
      ],
      "metadata": {
        "id": "ZUeUIg_pVFmS"
      }
    },
    {
      "cell_type": "code",
      "source": [
        "differenceInDates =  df.ArrivalDate -df.ReservationStatusDate\n",
        "\n",
        "differenceInDates.describe()"
      ],
      "metadata": {
        "colab": {
          "base_uri": "https://localhost:8080/"
        },
        "id": "UdSOOo1nTCxI",
        "outputId": "ff650359-34c4-4d7d-f9b7-eee8dbe3ebd7"
      },
      "execution_count": 19,
      "outputs": [
        {
          "output_type": "execute_result",
          "data": {
            "text/plain": [
              "count                         40060\n",
              "mean     18 days 01:33:23.275087369\n",
              "std      54 days 20:29:21.893473870\n",
              "min              -69 days +00:00:00\n",
              "25%               -5 days +00:00:00\n",
              "50%               -2 days +00:00:00\n",
              "75%                 3 days 00:00:00\n",
              "max               411 days 00:00:00\n",
              "dtype: object"
            ]
          },
          "metadata": {},
          "execution_count": 19
        }
      ]
    },
    {
      "cell_type": "markdown",
      "source": [
        "We see that on average people make their reservation about 18 days ahead of time and some more than a year!  Not so sure what is going on with all the negative times..."
      ],
      "metadata": {
        "id": "lyuWm5AwV14P"
      }
    },
    {
      "cell_type": "code",
      "source": [
        "differenceInDates.astype('timedelta64[D]').plot(kind = 'hist')"
      ],
      "metadata": {
        "colab": {
          "base_uri": "https://localhost:8080/",
          "height": 283
        },
        "id": "n7Nsft43VU96",
        "outputId": "8987c303-e546-48c0-ecba-7ec29fdd519c"
      },
      "execution_count": 25,
      "outputs": [
        {
          "output_type": "execute_result",
          "data": {
            "text/plain": [
              "<matplotlib.axes._subplots.AxesSubplot at 0x7fa1237aabd0>"
            ]
          },
          "metadata": {},
          "execution_count": 25
        },
        {
          "output_type": "display_data",
          "data": {
            "image/png": "[encoded data removed]",
            "text/plain": [
              "<Figure size 432x288 with 1 Axes>"
            ]
          },
          "metadata": {
            "needs_background": "light"
          }
        }
      ]
    },
    {
      "cell_type": "code",
      "source": [
        "differenceInDates.astype('timedelta64[D]').plot.box()"
      ],
      "metadata": {
        "colab": {
          "base_uri": "https://localhost:8080/",
          "height": 283
        },
        "id": "yd490bEwWKho",
        "outputId": "da2a9364-41e1-42f9-9f1a-111cb43f6fb7"
      },
      "execution_count": 27,
      "outputs": [
        {
          "output_type": "execute_result",
          "data": {
            "text/plain": [
              "<matplotlib.axes._subplots.AxesSubplot at 0x7fa1236a1210>"
            ]
          },
          "metadata": {},
          "execution_count": 27
        },
        {
          "output_type": "display_data",
          "data": {
            "image/png": "[encoded data removed]",
            "text/plain": [
              "<Figure size 432x288 with 1 Axes>"
            ]
          },
          "metadata": {
            "needs_background": "light"
          }
        }
      ]
    },
    {
      "cell_type": "code",
      "source": [
        ""
      ],
      "metadata": {
        "id": "jFOjFxblW4ZP"
      },
      "execution_count": null,
      "outputs": []
    }
  ]
}