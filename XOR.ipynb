{
  "nbformat": 4,
  "nbformat_minor": 0,
  "metadata": {
    "colab": {
      "name": "XOR.ipynb",
      "provenance": [],
      "include_colab_link": true
    },
    "kernelspec": {
      "display_name": "Python 3",
      "language": "python",
      "name": "python3"
    },
    "language_info": {
      "codemirror_mode": {
        "name": "ipython",
        "version": 3
      },
      "file_extension": ".py",
      "mimetype": "text/x-python",
      "name": "python",
      "nbconvert_exporter": "python",
      "pygments_lexer": "ipython3",
      "version": "3.7.0"
    }
  },
  "cells": [
    {
      "cell_type": "markdown",
      "metadata": {
        "id": "view-in-github",
        "colab_type": "text"
      },
      "source": [
        "<a href=\"https://colab.research.google.com/github/nurfnick/3D_Prints_For_Calc_3/blob/main/XOR.ipynb\" target=\"_parent\"><img src=\"https://colab.research.google.com/assets/colab-badge.svg\" alt=\"Open In Colab\"/></a>"
      ]
    },
    {
      "cell_type": "code",
      "metadata": {
        "id": "blbx-s_JGaeX"
      },
      "source": [
        "#packages used in our project \n",
        "import pandas as pd\n",
        "import matplotlib.pyplot as plt\n",
        "import seaborn as sns\n",
        "import numpy as np\n",
        "import sklearn\n",
        "from sklearn.preprocessing import MinMaxScaler,normalize\n",
        "from sklearn.decomposition import PCA\n",
        "import plotly.express as px\n",
        "import pandas as pd\n",
        "import tensorflow as tf\n",
        "from sklearn import preprocessing"
      ],
      "execution_count": 1,
      "outputs": []
    },
    {
      "cell_type": "code",
      "metadata": {
        "colab": {
          "base_uri": "https://localhost:8080/"
        },
        "id": "4crvjjuEGaeY",
        "outputId": "b7a2320e-c80e-4387-f071-95375854726e"
      },
      "source": [
        "train = pd.read_csv('https://raw.githubusercontent.com/jacmantooth/NASA_deep_learning/main/train.csv')\n",
        "test = pd.read_csv('https://raw.githubusercontent.com/jacmantooth/NASA_deep_learning/main/test.csv')\n",
        "print(train.head())\n",
        "print(test.head())"
      ],
      "execution_count": null,
      "outputs": [
        {
          "output_type": "stream",
          "name": "stdout",
          "text": [
            "   label  pixel0  pixel1  pixel2  ...  pixel780  pixel781  pixel782  pixel783\n",
            "0      1       0       0       0  ...         0         0         0         0\n",
            "1      0       0       0       0  ...         0         0         0         0\n",
            "2      1       0       0       0  ...         0         0         0         0\n",
            "3      4       0       0       0  ...         0         0         0         0\n",
            "4      0       0       0       0  ...         0         0         0         0\n",
            "\n",
            "[5 rows x 785 columns]\n",
            "   pixel0  pixel1  pixel2  pixel3  ...  pixel780  pixel781  pixel782  pixel783\n",
            "0       0       0       0       0  ...         0         0         0         0\n",
            "1       0       0       0       0  ...         0         0         0         0\n",
            "2       0       0       0       0  ...         0         0         0         0\n",
            "3       0       0       0       0  ...         0         0         0         0\n",
            "4       0       0       0       0  ...         0         0         0         0\n",
            "\n",
            "[5 rows x 784 columns]\n"
          ]
        }
      ]
    },
    {
      "cell_type": "markdown",
      "metadata": {
        "id": "jbszk63pwsOv"
      },
      "source": [
        "## XOR Example"
      ]
    },
    {
      "cell_type": "code",
      "metadata": {
        "colab": {
          "base_uri": "https://localhost:8080/"
        },
        "id": "VejsDBAlweG0",
        "outputId": "049a574a-b94b-487c-d03e-5de89eee7ad4"
      },
      "source": [
        "A = np.array([[0,0],[0,1],[1,0],[1,1]])\n",
        "#A = preprocessing.normalize(A)\n",
        "b = np.array([0,1,1,0])\n",
        "\n",
        "\n",
        "modelXOR = tf.keras.models.Sequential([\n",
        "  tf.keras.Input(shape=2),\n",
        "  tf.keras.layers.Dense(1,activation = 'relu'),\n",
        "])\n",
        "\n",
        "\n",
        "modelXOR.compile(optimizer='SGD',\n",
        "          loss='binary_crossentropy',\n",
        "          metrics=['accuracy'])\n",
        "modelXOR.fit(A, b, epochs=5)\n",
        "print(modelXOR(A))\n",
        "\n",
        "THRESHOLD:float = 0.5\n",
        "\n",
        "predictions = modelXOR.predict(A)\n",
        "np.where(predictions > THRESHOLD, 1,0)"
      ],
      "execution_count": null,
      "outputs": [
        {
          "output_type": "stream",
          "name": "stdout",
          "text": [
            "Epoch 1/5\n",
            "1/1 [==============================] - 1s 720ms/step - loss: 7.7125 - accuracy: 0.5000\n",
            "Epoch 2/5\n",
            "1/1 [==============================] - 0s 8ms/step - loss: 7.7125 - accuracy: 0.5000\n",
            "Epoch 3/5\n",
            "1/1 [==============================] - 0s 3ms/step - loss: 7.7125 - accuracy: 0.5000\n",
            "Epoch 4/5\n",
            "1/1 [==============================] - 0s 4ms/step - loss: 7.7125 - accuracy: 0.5000\n",
            "Epoch 5/5\n",
            "1/1 [==============================] - 0s 5ms/step - loss: 7.7125 - accuracy: 0.5000\n",
            "tf.Tensor(\n",
            "[[0.]\n",
            " [0.]\n",
            " [0.]\n",
            " [0.]], shape=(4, 1), dtype=float32)\n"
          ]
        },
        {
          "output_type": "execute_result",
          "data": {
            "text/plain": [
              "array([[0],\n",
              "       [0],\n",
              "       [0],\n",
              "       [0]])"
            ]
          },
          "metadata": {},
          "execution_count": 4
        }
      ]
    },
    {
      "cell_type": "code",
      "metadata": {
        "id": "w-jUYm2tK46Y"
      },
      "source": [
        ""
      ],
      "execution_count": null,
      "outputs": []
    },
    {
      "cell_type": "code",
      "metadata": {
        "colab": {
          "base_uri": "https://localhost:8080/"
        },
        "id": "KbzaA_FAyooL",
        "outputId": "7b27b5d5-cc8d-496a-8745-77930ba3100c"
      },
      "source": [
        "modelXOR.summary()"
      ],
      "execution_count": null,
      "outputs": [
        {
          "output_type": "stream",
          "name": "stdout",
          "text": [
            "Model: \"sequential\"\n",
            "_________________________________________________________________\n",
            "Layer (type)                 Output Shape              Param #   \n",
            "=================================================================\n",
            "dense (Dense)                (None, 1)                 3         \n",
            "=================================================================\n",
            "Total params: 3\n",
            "Trainable params: 3\n",
            "Non-trainable params: 0\n",
            "_________________________________________________________________\n"
          ]
        }
      ]
    },
    {
      "cell_type": "code",
      "metadata": {
        "colab": {
          "base_uri": "https://localhost:8080/"
        },
        "id": "IMx2Bzw45Iam",
        "outputId": "8ea8a4e9-252d-44d2-c572-7e56dce8592f"
      },
      "source": [
        "modelXOR(A)"
      ],
      "execution_count": null,
      "outputs": [
        {
          "output_type": "execute_result",
          "data": {
            "text/plain": [
              "<tf.Tensor: shape=(4, 1), dtype=float32, numpy=\n",
              "array([[0.],\n",
              "       [0.],\n",
              "       [0.],\n",
              "       [0.]], dtype=float32)>"
            ]
          },
          "metadata": {},
          "execution_count": 6
        }
      ]
    },
    {
      "cell_type": "code",
      "metadata": {
        "id": "IRAeIShF01au",
        "colab": {
          "base_uri": "https://localhost:8080/"
        },
        "outputId": "a6cb75da-203f-41fb-8ef0-11c0fc21a7a3"
      },
      "source": [
        "A = np.array([[0,0],[0,1],[1,0],[1,1]])\n",
        "#A = preprocessing.normalize(A)\n",
        "b = np.array([0,1,1,0])\n",
        "\n",
        "\n",
        "modelXOR = tf.keras.models.Sequential([\n",
        "  tf.keras.Input(shape=2),\n",
        "  tf.keras.layers.Dense(1,activation=tf.nn.relu),\n",
        "  # tf.keras.layers.ReLU(max_value=1),\n",
        "   #tf.keras.layers.Dropout(0.4, noise_shape = None, seed = None),\n",
        "    #tf.keras.layers.ReLU(threshold=.5),\n",
        "    tf.keras.layers.Dropout(0.4, noise_shape = None, seed = None)\n",
        "])\n",
        "\n",
        "\n",
        "#predictions1 = modelXOR(A).numpy()\n",
        "\n",
        "\n",
        "loss_fn1 = tf.keras.losses.CategoricalCrossentropy(10)\n",
        "\n",
        "\n",
        "modelXOR.compile(optimizer='SGD',\n",
        "              loss='binary_crossentropy',\n",
        "           metrics=['accuracy'])\n",
        "modelXOR.fit(A, b, epochs=5)\n",
        "modelXOR(A)"
      ],
      "execution_count": null,
      "outputs": [
        {
          "output_type": "stream",
          "name": "stdout",
          "text": [
            "Epoch 1/5\n",
            "1/1 [==============================] - 0s 406ms/step - loss: 4.0324 - accuracy: 0.5000\n",
            "Epoch 2/5\n",
            "1/1 [==============================] - 0s 13ms/step - loss: 4.0222 - accuracy: 0.7500\n",
            "Epoch 3/5\n",
            "1/1 [==============================] - 0s 5ms/step - loss: 4.0146 - accuracy: 0.7500\n",
            "Epoch 4/5\n",
            "1/1 [==============================] - 0s 7ms/step - loss: 4.0076 - accuracy: 0.7500\n",
            "Epoch 5/5\n",
            "1/1 [==============================] - 0s 6ms/step - loss: 4.0012 - accuracy: 0.7500\n"
          ]
        },
        {
          "output_type": "execute_result",
          "data": {
            "text/plain": [
              "<tf.Tensor: shape=(4, 1), dtype=float32, numpy=\n",
              "array([[0.02168313],\n",
              "       [0.35694596],\n",
              "       [0.        ],\n",
              "       [0.        ]], dtype=float32)>"
            ]
          },
          "metadata": {},
          "execution_count": 7
        }
      ]
    },
    {
      "cell_type": "code",
      "metadata": {
        "id": "347lJpZfBWWd"
      },
      "source": [
        "from keras.models import Sequential \n",
        "from keras.layers import Activation, Dense \n",
        "from keras import initializers \n",
        "from keras import regularizers \n",
        "from keras import constraints"
      ],
      "execution_count": null,
      "outputs": []
    },
    {
      "cell_type": "code",
      "metadata": {
        "colab": {
          "base_uri": "https://localhost:8080/"
        },
        "id": "n0RiNMTEBbUp",
        "outputId": "77df1134-62a5-46d6-b186-9758b45c6bae"
      },
      "source": [
        "model = Sequential()\n",
        "\n",
        "model.add(Dense(8, input_shape=(2,), kernel_initializer = 'he_uniform', \n",
        "   kernel_regularizer = None, kernel_constraint = 'MaxNorm', activation = 'relu'))\n",
        "\n",
        "model.add(Dense(4, activation = 'relu')) \n",
        "model.add(Dense(1))\n",
        "\n",
        "model.compile(optimizer='SGD',\n",
        "              loss=loss_fn1,\n",
        "              metrics=['accuracy'])\n",
        "model.fit(A, b, epochs=5)\n",
        "model(A)"
      ],
      "execution_count": null,
      "outputs": [
        {
          "output_type": "stream",
          "name": "stdout",
          "text": [
            "Epoch 1/5\n",
            "1/1 [==============================] - 0s 419ms/step - loss: 0.0000e+00 - accuracy: 0.5000\n",
            "Epoch 2/5\n",
            "1/1 [==============================] - 0s 7ms/step - loss: 0.0000e+00 - accuracy: 0.5000\n",
            "Epoch 3/5\n",
            "1/1 [==============================] - 0s 6ms/step - loss: 0.0000e+00 - accuracy: 0.5000\n",
            "Epoch 4/5\n",
            "1/1 [==============================] - 0s 4ms/step - loss: 0.0000e+00 - accuracy: 0.5000\n",
            "Epoch 5/5\n",
            "1/1 [==============================] - 0s 3ms/step - loss: 0.0000e+00 - accuracy: 0.5000\n"
          ]
        },
        {
          "output_type": "execute_result",
          "data": {
            "text/plain": [
              "<tf.Tensor: shape=(4, 1), dtype=float32, numpy=\n",
              "array([[-0.03411409],\n",
              "       [ 0.37917224],\n",
              "       [-0.15376201],\n",
              "       [-0.09060283]], dtype=float32)>"
            ]
          },
          "metadata": {},
          "execution_count": 9
        }
      ]
    },
    {
      "cell_type": "code",
      "metadata": {
        "colab": {
          "base_uri": "https://localhost:8080/"
        },
        "id": "astZVVNvbsg-",
        "outputId": "a5cb461b-673e-436b-9d42-fd525c0ae8ee"
      },
      "source": [
        "A = np.array([[0,0],[0,1],[1,0],[1,1]])\n",
        "#A = preprocessing.normalize(A)\n",
        "b = np.array([0,1,1,0])\n",
        "\n",
        "\n",
        "modelXOR = tf.keras.models.Sequential([\n",
        "  tf.keras.Input(shape=2),\n",
        "  tf.keras.layers.Dense(1,activation='sigmoid'),\n",
        "])\n",
        "\n",
        "\n",
        "modelXOR.compile(optimizer='SGD',\n",
        "          loss='binary_crossentropy',\n",
        "          metrics=['accuracy'])\n",
        "modelXOR.fit(A, b, epochs=5)\n",
        "print(modelXOR(A))\n",
        "\n",
        "THRESHOLD:float = 0.5\n",
        "\n",
        "predictions = modelXOR.predict(A)\n",
        "np.where(predictions > THRESHOLD, 1,0)"
      ],
      "execution_count": null,
      "outputs": [
        {
          "output_type": "stream",
          "name": "stdout",
          "text": [
            "Epoch 1/5\n",
            "1/1 [==============================] - 0s 345ms/step - loss: 0.7088 - accuracy: 0.5000\n",
            "Epoch 2/5\n",
            "1/1 [==============================] - 0s 6ms/step - loss: 0.7087 - accuracy: 0.2500\n",
            "Epoch 3/5\n",
            "1/1 [==============================] - 0s 4ms/step - loss: 0.7086 - accuracy: 0.2500\n",
            "Epoch 4/5\n",
            "1/1 [==============================] - 0s 7ms/step - loss: 0.7085 - accuracy: 0.2500\n",
            "Epoch 5/5\n",
            "1/1 [==============================] - 0s 3ms/step - loss: 0.7084 - accuracy: 0.2500\n",
            "tf.Tensor(\n",
            "[[0.5008232 ]\n",
            " [0.38997144]\n",
            " [0.47936082]\n",
            " [0.36974084]], shape=(4, 1), dtype=float32)\n"
          ]
        },
        {
          "output_type": "execute_result",
          "data": {
            "text/plain": [
              "array([[1],\n",
              "       [0],\n",
              "       [0],\n",
              "       [0]])"
            ]
          },
          "metadata": {},
          "execution_count": 10
        }
      ]
    },
    {
      "cell_type": "code",
      "metadata": {
        "colab": {
          "base_uri": "https://localhost:8080/"
        },
        "id": "uX7JyRWf4VcB",
        "outputId": "5749ac16-5a48-44d0-b3c8-03d651e9c7bc"
      },
      "source": [
        ""
      ],
      "execution_count": 8,
      "outputs": [
        {
          "output_type": "execute_result",
          "data": {
            "text/plain": [
              "array([0, 8, 8, 0])"
            ]
          },
          "metadata": {},
          "execution_count": 8
        }
      ]
    },
    {
      "cell_type": "code",
      "metadata": {
        "colab": {
          "base_uri": "https://localhost:8080/"
        },
        "id": "0D7Xi5WrceFJ",
        "outputId": "990abd9b-215b-45c3-fcfc-4372e7361e47"
      },
      "source": [
        "A = np.array([[0,0],[0,1],[1,0],[1,1]])\n",
        "#A = preprocessing.normalize(A)\n",
        "b = np.array([0,1,1,0])\n",
        "mu, sigma = 0, 1\n",
        "noise = np.random.normal(mu, sigma, [4,2])\n",
        "Anoise = np.append(A,A + noise, axis = 0)\n",
        "b = np.append(b,b)\n",
        "print(Anoise)\n",
        "modelXOR = tf.keras.models.Sequential([\n",
        "  #tf.keras.layers.GaussianNoise(.01, input_shape=(2,)),\n",
        "  tf.keras.layers.Dense(2,activation='relu'),\n",
        "  tf.keras.layers.Dense(1,activation='sigmoid'),\n",
        "])\n",
        "\n",
        "modelXOR.compile(optimizer='SGD',\n",
        "          loss='binary_crossentropy',\n",
        "          metrics=['accuracy'])\n",
        "modelXOR.fit(Anoise, b, epochs=25)\n",
        "print(modelXOR(Anoise))\n",
        "\n",
        "THRESHOLD:float = 0.5\n",
        "predictions = modelXOR.predict(Anoise)\n",
        "print(np.where(predictions >= THRESHOLD, 1,0))\n",
        "print(modelXOR(A))\n",
        "predictions = modelXOR.predict(A)\n",
        "np.where(predictions >= THRESHOLD, 1,0)"
      ],
      "execution_count": 12,
      "outputs": [
        {
          "output_type": "stream",
          "name": "stdout",
          "text": [
            "[[ 0.          0.        ]\n",
            " [ 0.          1.        ]\n",
            " [ 1.          0.        ]\n",
            " [ 1.          1.        ]\n",
            " [ 0.09022374 -0.62196487]\n",
            " [-2.04352316  1.51676673]\n",
            " [ 0.67913771  1.55554525]\n",
            " [ 2.61859584  1.29857002]]\n",
            "Epoch 1/25\n",
            "1/1 [==============================] - 0s 365ms/step - loss: 0.8869 - accuracy: 0.5000\n",
            "Epoch 2/25\n",
            "1/1 [==============================] - 0s 4ms/step - loss: 0.8835 - accuracy: 0.3750\n",
            "Epoch 3/25\n",
            "1/1 [==============================] - 0s 6ms/step - loss: 0.8801 - accuracy: 0.3750\n",
            "Epoch 4/25\n",
            "1/1 [==============================] - 0s 6ms/step - loss: 0.8768 - accuracy: 0.3750\n",
            "Epoch 5/25\n",
            "1/1 [==============================] - 0s 4ms/step - loss: 0.8735 - accuracy: 0.3750\n",
            "Epoch 6/25\n",
            "1/1 [==============================] - 0s 4ms/step - loss: 0.8703 - accuracy: 0.3750\n",
            "Epoch 7/25\n",
            "1/1 [==============================] - 0s 4ms/step - loss: 0.8671 - accuracy: 0.3750\n",
            "Epoch 8/25\n",
            "1/1 [==============================] - 0s 8ms/step - loss: 0.8639 - accuracy: 0.3750\n",
            "Epoch 9/25\n",
            "1/1 [==============================] - 0s 4ms/step - loss: 0.8608 - accuracy: 0.3750\n",
            "Epoch 10/25\n",
            "1/1 [==============================] - 0s 4ms/step - loss: 0.8577 - accuracy: 0.3750\n",
            "Epoch 11/25\n",
            "1/1 [==============================] - 0s 6ms/step - loss: 0.8546 - accuracy: 0.3750\n",
            "Epoch 12/25\n",
            "1/1 [==============================] - 0s 20ms/step - loss: 0.8516 - accuracy: 0.3750\n",
            "Epoch 13/25\n",
            "1/1 [==============================] - 0s 10ms/step - loss: 0.8486 - accuracy: 0.3750\n",
            "Epoch 14/25\n",
            "1/1 [==============================] - 0s 10ms/step - loss: 0.8456 - accuracy: 0.3750\n",
            "Epoch 15/25\n",
            "1/1 [==============================] - 0s 9ms/step - loss: 0.8427 - accuracy: 0.3750\n",
            "Epoch 16/25\n",
            "1/1 [==============================] - 0s 4ms/step - loss: 0.8398 - accuracy: 0.3750\n",
            "Epoch 17/25\n",
            "1/1 [==============================] - 0s 5ms/step - loss: 0.8370 - accuracy: 0.3750\n",
            "Epoch 18/25\n",
            "1/1 [==============================] - 0s 6ms/step - loss: 0.8341 - accuracy: 0.3750\n",
            "Epoch 19/25\n",
            "1/1 [==============================] - 0s 7ms/step - loss: 0.8313 - accuracy: 0.3750\n",
            "Epoch 20/25\n",
            "1/1 [==============================] - 0s 7ms/step - loss: 0.8286 - accuracy: 0.3750\n",
            "Epoch 21/25\n",
            "1/1 [==============================] - 0s 11ms/step - loss: 0.8258 - accuracy: 0.3750\n",
            "Epoch 22/25\n",
            "1/1 [==============================] - 0s 6ms/step - loss: 0.8231 - accuracy: 0.3750\n",
            "Epoch 23/25\n",
            "1/1 [==============================] - 0s 6ms/step - loss: 0.8205 - accuracy: 0.3750\n",
            "Epoch 24/25\n",
            "1/1 [==============================] - 0s 6ms/step - loss: 0.8178 - accuracy: 0.3750\n",
            "Epoch 25/25\n",
            "1/1 [==============================] - 0s 10ms/step - loss: 0.8152 - accuracy: 0.3750\n",
            "tf.Tensor(\n",
            "[[0.5114431 ]\n",
            " [0.4104081 ]\n",
            " [0.4052708 ]\n",
            " [0.29884803]\n",
            " [0.42757374]\n",
            " [0.19362652]\n",
            " [0.2776624 ]\n",
            " [0.14346188]], shape=(8, 1), dtype=float32)\n",
            "[[1]\n",
            " [0]\n",
            " [0]\n",
            " [0]\n",
            " [0]\n",
            " [0]\n",
            " [0]\n",
            " [0]]\n",
            "tf.Tensor(\n",
            "[[0.5114431 ]\n",
            " [0.4104081 ]\n",
            " [0.4052708 ]\n",
            " [0.29884803]], shape=(4, 1), dtype=float32)\n"
          ]
        },
        {
          "output_type": "execute_result",
          "data": {
            "text/plain": [
              "array([[1],\n",
              "       [0],\n",
              "       [0],\n",
              "       [0]])"
            ]
          },
          "metadata": {},
          "execution_count": 12
        }
      ]
    },
    {
      "cell_type": "code",
      "metadata": {
        "colab": {
          "base_uri": "https://localhost:8080/"
        },
        "id": "auOKFJ34m5GD",
        "outputId": "49e387f2-0450-4b26-c2e4-3a5d4194c511"
      },
      "source": [
        " def treetest(first, second):\n",
        "   if first == second: \n",
        "    print(0),\n",
        "   if first != second: \n",
        "    print(1)\n",
        "treetest(1,0)\n",
        "\n",
        "\n",
        "\n",
        "def tree (a):\n",
        "  new_m=[]\n",
        "  for j in range(len(a)):\n",
        "    if a[j][0]== a[j][1] :\n",
        "        new_m.append(0)\n",
        "    else:\n",
        "        new_m.append(1)\n",
        "  return (new_m)\n",
        "tree(A)\n"
      ],
      "execution_count": 20,
      "outputs": [
        {
          "output_type": "stream",
          "name": "stdout",
          "text": [
            "1\n"
          ]
        },
        {
          "output_type": "execute_result",
          "data": {
            "text/plain": [
              "[0, 1, 1, 0]"
            ]
          },
          "metadata": {},
          "execution_count": 20
        }
      ]
    },
    {
      "cell_type": "code",
      "metadata": {
        "id": "x032xEZb5qju",
        "outputId": "95769263-e7fa-41aa-bee7-dbba5e7b927b",
        "colab": {
          "base_uri": "https://localhost:8080/"
        }
      },
      "source": [
        "from sklearn.tree import DecisionTreeClassifier\n",
        "b = np.array([0,1,1,0])\n",
        "clf = DecisionTreeClassifier()\n",
        "\n",
        "clf.fit(A,b)"
      ],
      "execution_count": 16,
      "outputs": [
        {
          "output_type": "execute_result",
          "data": {
            "text/plain": [
              "DecisionTreeClassifier(ccp_alpha=0.0, class_weight=None, criterion='gini',\n",
              "                       max_depth=None, max_features=None, max_leaf_nodes=None,\n",
              "                       min_impurity_decrease=0.0, min_impurity_split=None,\n",
              "                       min_samples_leaf=1, min_samples_split=2,\n",
              "                       min_weight_fraction_leaf=0.0, presort='deprecated',\n",
              "                       random_state=None, splitter='best')"
            ]
          },
          "metadata": {},
          "execution_count": 16
        }
      ]
    },
    {
      "cell_type": "code",
      "metadata": {
        "id": "7LC77y2F5uRq",
        "outputId": "e858c647-807e-47fd-8c56-aef1f611be66",
        "colab": {
          "base_uri": "https://localhost:8080/"
        }
      },
      "source": [
        "clf.predict(Anoise)"
      ],
      "execution_count": 19,
      "outputs": [
        {
          "output_type": "execute_result",
          "data": {
            "text/plain": [
              "array([0, 1, 1, 0, 0, 1, 0, 0])"
            ]
          },
          "metadata": {},
          "execution_count": 19
        }
      ]
    },
    {
      "cell_type": "code",
      "metadata": {
        "id": "o8P7CnxL6WPJ",
        "outputId": "48593fca-3cd2-43a3-c02a-2bd5651c85ca",
        "colab": {
          "base_uri": "https://localhost:8080/"
        }
      },
      "source": [
        "tree(Anoise)"
      ],
      "execution_count": 21,
      "outputs": [
        {
          "output_type": "execute_result",
          "data": {
            "text/plain": [
              "[0, 1, 1, 0, 1, 1, 1, 1]"
            ]
          },
          "metadata": {},
          "execution_count": 21
        }
      ]
    },
    {
      "cell_type": "code",
      "metadata": {
        "id": "6o3p2zhe6qfe"
      },
      "source": [
        ""
      ],
      "execution_count": null,
      "outputs": []
    }
  ]
}